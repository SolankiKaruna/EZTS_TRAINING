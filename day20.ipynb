{
 "cells": [
  {
   "cell_type": "code",
   "execution_count": 3,
   "id": "a4c6bb24",
   "metadata": {},
   "outputs": [
    {
     "name": "stdout",
     "output_type": "stream",
     "text": [
      "[81, 34, 46, 56, 45, 104, 70, 37, 39, 20, False]\n"
     ]
    }
   ],
   "source": [
    "#double hashing[merging 2 differnt hashings together]\n",
    "x=[20,34,45,70,56,81,104,37,46,39]\n",
    "hashList=[False for _ in range(11)]\n",
    "\n",
    "for k in x:\n",
    "    i=0\n",
    "    while True:\n",
    "        a=k%11\n",
    "        b=8-(k%8)\n",
    "        c=(a+i*b)%11\n",
    "        if hashList[c]==False:\n",
    "            hashList[c]=k\n",
    "            break\n",
    "        else:\n",
    "            i+=1\n",
    "print(hashList)"
   ]
  },
  {
   "cell_type": "markdown",
   "id": "71c046d8",
   "metadata": {},
   "source": [
    "####  BIT MANIPULATION"
   ]
  },
  {
   "cell_type": "code",
   "execution_count": 5,
   "id": "2c8698eb",
   "metadata": {},
   "outputs": [
    {
     "name": "stdout",
     "output_type": "stream",
     "text": [
      "4\n"
     ]
    }
   ],
   "source": [
    "a=4\n",
    "b=5\n",
    "print(a&b)"
   ]
  },
  {
   "cell_type": "code",
   "execution_count": 7,
   "id": "6d6757aa",
   "metadata": {},
   "outputs": [
    {
     "name": "stdout",
     "output_type": "stream",
     "text": [
      "(1, 4)\n",
      "(2, 3)\n",
      "(3, 2)\n",
      "(4, 1)\n"
     ]
    }
   ],
   "source": [
    "#zip\n",
    "a=[1,2,3,4]\n",
    "b=[4,3,2,1]\n",
    "for i in zip(a,b):\n",
    "    print(i)\n"
   ]
  },
  {
   "cell_type": "code",
   "execution_count": 8,
   "id": "40433907",
   "metadata": {},
   "outputs": [
    {
     "name": "stdout",
     "output_type": "stream",
     "text": [
      "(3, 2)\n",
      "(2, 1)\n",
      "(1, 0)\n"
     ]
    }
   ],
   "source": [
    "q=4\n",
    "i=3\n",
    "for x in zip(range(q-1,-1,-1),range(i-1,-1,-1)):\n",
    "    print(x)"
   ]
  },
  {
   "cell_type": "code",
   "execution_count": null,
   "id": "eb8a5ed9",
   "metadata": {},
   "outputs": [],
   "source": []
  },
  {
   "cell_type": "code",
   "execution_count": 1,
   "id": "5b2fa357",
   "metadata": {},
   "outputs": [
    {
     "name": "stdout",
     "output_type": "stream",
     "text": [
      "18 6\n"
     ]
    }
   ],
   "source": [
    "#greedy approach\n",
    "coins=[1,5,7]\n",
    "amt=18\n",
    "Sum,count=0,0\n",
    "while Sum<amt:\n",
    "    if (Sum+coins[2])<=amt:\n",
    "        Sum+=coins[2]\n",
    "        count+=1\n",
    "    elif (Sum+coins[1])<=amt:\n",
    "        Sum+=coins[1]\n",
    "        count+=1\n",
    "    elif (Sum+coins[0])<=amt:\n",
    "        Sum+=coins[0]\n",
    "        count+=1\n",
    "\n",
    "print(Sum,count)\n",
    "        \n",
    "\n",
    "    "
   ]
  },
  {
   "cell_type": "code",
   "execution_count": 3,
   "id": "f76e39ca",
   "metadata": {},
   "outputs": [
    {
     "name": "stdout",
     "output_type": "stream",
     "text": [
      "[7, 7, 1, 1, 1, 1]\n",
      "6\n"
     ]
    }
   ],
   "source": [
    "#dp\n",
    "coins = [7, 5, 1]\n",
    "bill_amount = 18\n",
    "\n",
    "result = []\n",
    "\n",
    "\n",
    "for coin in coins:\n",
    "   \n",
    "    while bill_amount >= coin:\n",
    "        result.append(coin)\n",
    "        bill_amount -= coin\n",
    "\n",
    "\n",
    "if bill_amount == 0:\n",
    "    print( result)\n",
    "    print(len(result))"
   ]
  },
  {
   "cell_type": "code",
   "execution_count": null,
   "id": "6d371e2d",
   "metadata": {},
   "outputs": [],
   "source": []
  },
  {
   "cell_type": "code",
   "execution_count": null,
   "id": "ce48e6a4",
   "metadata": {},
   "outputs": [],
   "source": []
  }
 ],
 "metadata": {
  "kernelspec": {
   "display_name": "Python 3 (ipykernel)",
   "language": "python",
   "name": "python3"
  },
  "language_info": {
   "codemirror_mode": {
    "name": "ipython",
    "version": 3
   },
   "file_extension": ".py",
   "mimetype": "text/x-python",
   "name": "python",
   "nbconvert_exporter": "python",
   "pygments_lexer": "ipython3",
   "version": "3.11.5"
  }
 },
 "nbformat": 4,
 "nbformat_minor": 5
}

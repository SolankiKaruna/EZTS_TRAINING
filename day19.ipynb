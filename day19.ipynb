{
 "cells": [
  {
   "cell_type": "code",
   "execution_count": 20,
   "id": "02391777",
   "metadata": {},
   "outputs": [
    {
     "name": "stdout",
     "output_type": "stream",
     "text": [
      "14\n"
     ]
    }
   ],
   "source": [
    "ar = [\n",
    "    [1, 2, 2, 3],\n",
    "    [3, 1, 4, 2],\n",
    "    [1, 5, 3, 3],\n",
    "    [1, 2, 1, 1]\n",
    "]\n",
    "m = len(ar[0])\n",
    "n = len(ar)\n",
    "i, j, sum = 0, 0, ar[0][0]\n",
    "\n",
    "while i < n - 1 or j < m - 1:# reduct m and n by 1 initially so that u dont have to use this\n",
    "    if j == m - 1:  \n",
    "        i += 1\n",
    "    elif i == n - 1:  \n",
    "        j += 1\n",
    "    elif ar[i][j + 1] < ar[i + 1][j]:  \n",
    "        j += 1\n",
    "    else:  \n",
    "        i += 1\n",
    "    sum += ar[i][j]\n",
    "\n",
    "print(sum)\n"
   ]
  },
  {
   "cell_type": "code",
   "execution_count": 24,
   "id": "1aac9e80",
   "metadata": {},
   "outputs": [
    {
     "name": "stdout",
     "output_type": "stream",
     "text": [
      "[[0, 0, 0, 0], [0, 0, 0, 0], [0, 0, 0, 0], [0, 0, 0, 0]]\n"
     ]
    }
   ],
   "source": [
    "ar = [\n",
    "    [1, 2, 2, 3],\n",
    "    [3, 1, 4, 2],\n",
    "    [1, 5, 3, 3],\n",
    "    [1, 2, 1, 1]\n",
    "]\n",
    "m = len(ar[0])\n",
    "n = len(ar)\n",
    "i, j=0,0\n",
    "dp=[[0 for i in range(n)] for j in range(m)]\n",
    "print(dp)\n",
    "for i in range(n):\n",
    "     dp[i][0]="
   ]
  },
  {
   "cell_type": "code",
   "execution_count": 1,
   "id": "cb6f7052",
   "metadata": {},
   "outputs": [],
   "source": [
    "ar = [\n",
    "    [1, 2, 2, 3],\n",
    "    [3, 1, 4, 2],\n",
    "    [1, 5, 3, 3],\n",
    "    [1, 2, 1, 1]\n",
    "]\n",
    "m = len(ar[0])\n",
    "n = len(ar)\n",
    "i, j, sum = 0, 0, ar[0][0]"
   ]
  },
  {
   "cell_type": "code",
   "execution_count": null,
   "id": "665be5ca",
   "metadata": {},
   "outputs": [],
   "source": []
  },
  {
   "cell_type": "code",
   "execution_count": null,
   "id": "e75af19c",
   "metadata": {},
   "outputs": [],
   "source": []
  }
 ],
 "metadata": {
  "kernelspec": {
   "display_name": "Python 3 (ipykernel)",
   "language": "python",
   "name": "python3"
  },
  "language_info": {
   "codemirror_mode": {
    "name": "ipython",
    "version": 3
   },
   "file_extension": ".py",
   "mimetype": "text/x-python",
   "name": "python",
   "nbconvert_exporter": "python",
   "pygments_lexer": "ipython3",
   "version": "3.11.5"
  }
 },
 "nbformat": 4,
 "nbformat_minor": 5
}
